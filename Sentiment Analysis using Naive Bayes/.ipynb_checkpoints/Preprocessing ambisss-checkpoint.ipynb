{
 "cells": [
  {
   "cell_type": "code",
   "execution_count": 1,
   "metadata": {},
   "outputs": [],
   "source": [
    "from Sastrawi.Stemmer.StemmerFactory import StemmerFactory\n",
    "factory = StemmerFactory()\n",
    "stemmer = factory.create_stemmer()"
   ]
  },
  {
   "cell_type": "markdown",
   "metadata": {},
   "source": [
    "# Read Data"
   ]
  },
  {
   "cell_type": "code",
   "execution_count": 2,
   "metadata": {},
   "outputs": [
    {
     "data": {
      "text/plain": [
       "['Kupu-kupu terbang di atas pohon',\n",
       " 'Dia terbang sambil mencari pohon untuk bertelur',\n",
       " 'Pohon tempat kupu-kupu bertelur adalah pohon mangga',\n",
       " 'Kupu-kupu bertelur untuk berkembang biak']"
      ]
     },
     "execution_count": 2,
     "metadata": {},
     "output_type": "execute_result"
    }
   ],
   "source": [
    "stop = open('stopword tala.txt','r')\n",
    "stoplist = stop.read().split('\\n')\n",
    "stop.close()\n",
    "\n",
    "text = \"\"\"Kupu-kupu terbang di atas pohon\n",
    "Dia terbang sambil mencari pohon untuk bertelur\n",
    "Pohon tempat kupu-kupu bertelur adalah pohon mangga\n",
    "Kupu-kupu bertelur untuk berkembang biak\"\"\"\n",
    "text = text.split('\\n')\n",
    "text"
   ]
  },
  {
   "cell_type": "markdown",
   "metadata": {},
   "source": [
    "# Preprocessing"
   ]
  },
  {
   "cell_type": "code",
   "execution_count": 3,
   "metadata": {},
   "outputs": [
    {
     "data": {
      "text/plain": [
       "['kupu-kupu',\n",
       " 'terbang',\n",
       " 'pohon',\n",
       " 'dia',\n",
       " 'cari',\n",
       " 'telur',\n",
       " 'mangga',\n",
       " 'kembang',\n",
       " 'biak']"
      ]
     },
     "execution_count": 3,
     "metadata": {},
     "output_type": "execute_result"
    }
   ],
   "source": [
    "stem,term = [],[]\n",
    "\n",
    "for kalimat in text:\n",
    "    kata = kalimat.split(' ')\n",
    "    temp = []\n",
    "    for token in kata:\n",
    "        if token not in stoplist:\n",
    "            temp.append(stemmer.stem(token))\n",
    "    stem += temp\n",
    "    \n",
    "for i in stem:\n",
    "    if i not in term:\n",
    "        term.append(i)\n",
    "term"
   ]
  }
 ],
 "metadata": {
  "kernelspec": {
   "display_name": "Python 3",
   "language": "python",
   "name": "python3"
  },
  "language_info": {
   "codemirror_mode": {
    "name": "ipython",
    "version": 3
   },
   "file_extension": ".py",
   "mimetype": "text/x-python",
   "name": "python",
   "nbconvert_exporter": "python",
   "pygments_lexer": "ipython3",
   "version": "3.7.3"
  }
 },
 "nbformat": 4,
 "nbformat_minor": 2
}
