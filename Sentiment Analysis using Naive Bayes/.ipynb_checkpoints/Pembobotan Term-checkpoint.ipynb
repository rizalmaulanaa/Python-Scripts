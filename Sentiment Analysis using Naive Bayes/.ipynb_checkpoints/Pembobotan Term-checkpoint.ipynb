{
 "cells": [
  {
   "cell_type": "code",
   "execution_count": 38,
   "metadata": {},
   "outputs": [],
   "source": [
    "import pandas as pd\n",
    "import numpy as np\n",
    "\n",
    "from Sastrawi.Stemmer.StemmerFactory import StemmerFactory\n",
    "factory = StemmerFactory()\n",
    "stemmer = factory.create_stemmer()"
   ]
  },
  {
   "cell_type": "markdown",
   "metadata": {},
   "source": [
    "# Read Data"
   ]
  },
  {
   "cell_type": "code",
   "execution_count": 15,
   "metadata": {},
   "outputs": [
    {
     "data": {
      "text/plain": [
       "['kupu-kupu terbang di atas pohon',\n",
       " 'dia terbang sambil mencari pohon untuk bertelur',\n",
       " 'pohon tempat kupu-kupu bertelur adalah pohon mangga',\n",
       " 'kupu-kupu bertelur untuk berkembang biak']"
      ]
     },
     "execution_count": 15,
     "metadata": {},
     "output_type": "execute_result"
    }
   ],
   "source": [
    "stop = open('stopword tala.txt','r')\n",
    "stoplist = stop.read().split('\\n')\n",
    "stop.close()\n",
    "\n",
    "text = \"\"\"Kupu-kupu terbang di atas pohon\n",
    "Dia terbang sambil mencari pohon untuk bertelur\n",
    "Pohon tempat kupu-kupu bertelur adalah pohon mangga\n",
    "Kupu-kupu bertelur untuk berkembang biak\"\"\"\n",
    "text = text.lower().split('\\n')\n",
    "text"
   ]
  },
  {
   "cell_type": "markdown",
   "metadata": {},
   "source": [
    "# Preprocessing"
   ]
  },
  {
   "cell_type": "code",
   "execution_count": 29,
   "metadata": {},
   "outputs": [
    {
     "data": {
      "text/plain": [
       "['kupu-kupu', 'terbang', 'pohon', 'cari', 'telur', 'mangga', 'kembang', 'biak']"
      ]
     },
     "execution_count": 29,
     "metadata": {},
     "output_type": "execute_result"
    }
   ],
   "source": [
    "stem,term = [],[]\n",
    "\n",
    "for kalimat in text:\n",
    "    kata = kalimat.split(' ')\n",
    "    temp = []\n",
    "    for token in kata:\n",
    "        if token not in stoplist:\n",
    "            temp.append(stemmer.stem(token))\n",
    "    stem.append(temp)\n",
    "    \n",
    "for i in stem:\n",
    "    for j in i:\n",
    "        if j not in term:\n",
    "            term.append(j)\n",
    "term"
   ]
  },
  {
   "cell_type": "markdown",
   "metadata": {},
   "source": [
    "# Pembobotan Term"
   ]
  },
  {
   "cell_type": "code",
   "execution_count": 35,
   "metadata": {},
   "outputs": [
    {
     "data": {
      "text/html": [
       "<div>\n",
       "<style scoped>\n",
       "    .dataframe tbody tr th:only-of-type {\n",
       "        vertical-align: middle;\n",
       "    }\n",
       "\n",
       "    .dataframe tbody tr th {\n",
       "        vertical-align: top;\n",
       "    }\n",
       "\n",
       "    .dataframe thead th {\n",
       "        text-align: right;\n",
       "    }\n",
       "</style>\n",
       "<table border=\"1\" class=\"dataframe\">\n",
       "  <thead>\n",
       "    <tr style=\"text-align: right;\">\n",
       "      <th></th>\n",
       "      <th>doc0</th>\n",
       "      <th>doc1</th>\n",
       "      <th>doc2</th>\n",
       "      <th>doc3</th>\n",
       "    </tr>\n",
       "  </thead>\n",
       "  <tbody>\n",
       "    <tr>\n",
       "      <th>kupu-kupu</th>\n",
       "      <td>1</td>\n",
       "      <td>0</td>\n",
       "      <td>1</td>\n",
       "      <td>1</td>\n",
       "    </tr>\n",
       "    <tr>\n",
       "      <th>terbang</th>\n",
       "      <td>1</td>\n",
       "      <td>1</td>\n",
       "      <td>0</td>\n",
       "      <td>0</td>\n",
       "    </tr>\n",
       "    <tr>\n",
       "      <th>pohon</th>\n",
       "      <td>1</td>\n",
       "      <td>1</td>\n",
       "      <td>2</td>\n",
       "      <td>0</td>\n",
       "    </tr>\n",
       "    <tr>\n",
       "      <th>cari</th>\n",
       "      <td>0</td>\n",
       "      <td>1</td>\n",
       "      <td>0</td>\n",
       "      <td>0</td>\n",
       "    </tr>\n",
       "    <tr>\n",
       "      <th>telur</th>\n",
       "      <td>0</td>\n",
       "      <td>1</td>\n",
       "      <td>1</td>\n",
       "      <td>1</td>\n",
       "    </tr>\n",
       "    <tr>\n",
       "      <th>mangga</th>\n",
       "      <td>0</td>\n",
       "      <td>0</td>\n",
       "      <td>1</td>\n",
       "      <td>0</td>\n",
       "    </tr>\n",
       "    <tr>\n",
       "      <th>kembang</th>\n",
       "      <td>0</td>\n",
       "      <td>0</td>\n",
       "      <td>0</td>\n",
       "      <td>1</td>\n",
       "    </tr>\n",
       "    <tr>\n",
       "      <th>biak</th>\n",
       "      <td>0</td>\n",
       "      <td>0</td>\n",
       "      <td>0</td>\n",
       "      <td>1</td>\n",
       "    </tr>\n",
       "  </tbody>\n",
       "</table>\n",
       "</div>"
      ],
      "text/plain": [
       "           doc0  doc1  doc2  doc3\n",
       "kupu-kupu     1     0     1     1\n",
       "terbang       1     1     0     0\n",
       "pohon         1     1     2     0\n",
       "cari          0     1     0     0\n",
       "telur         0     1     1     1\n",
       "mangga        0     0     1     0\n",
       "kembang       0     0     0     1\n",
       "biak          0     0     0     1"
      ]
     },
     "execution_count": 35,
     "metadata": {},
     "output_type": "execute_result"
    }
   ],
   "source": [
    "bobot = pd.DataFrame(0,index=term,columns=range(len(text)))\n",
    "\n",
    "for k,kata in enumerate(stem):\n",
    "    for temp in kata:\n",
    "        bobot.loc[temp,k] += 1\n",
    "\n",
    "bobot.columns = ['doc'+str(i) for i in range(len(text))]\n",
    "bobot"
   ]
  },
  {
   "cell_type": "markdown",
   "metadata": {},
   "source": [
    "# TF-IDF"
   ]
  },
  {
   "cell_type": "code",
   "execution_count": 45,
   "metadata": {},
   "outputs": [
    {
     "data": {
      "text/html": [
       "<div>\n",
       "<style scoped>\n",
       "    .dataframe tbody tr th:only-of-type {\n",
       "        vertical-align: middle;\n",
       "    }\n",
       "\n",
       "    .dataframe tbody tr th {\n",
       "        vertical-align: top;\n",
       "    }\n",
       "\n",
       "    .dataframe thead th {\n",
       "        text-align: right;\n",
       "    }\n",
       "</style>\n",
       "<table border=\"1\" class=\"dataframe\">\n",
       "  <thead>\n",
       "    <tr style=\"text-align: right;\">\n",
       "      <th></th>\n",
       "      <th>doc0</th>\n",
       "      <th>doc1</th>\n",
       "      <th>doc2</th>\n",
       "      <th>doc3</th>\n",
       "    </tr>\n",
       "  </thead>\n",
       "  <tbody>\n",
       "    <tr>\n",
       "      <th>kupu-kupu</th>\n",
       "      <td>0.093581</td>\n",
       "      <td>0.000000</td>\n",
       "      <td>0.093581</td>\n",
       "      <td>0.093581</td>\n",
       "    </tr>\n",
       "    <tr>\n",
       "      <th>terbang</th>\n",
       "      <td>0.225477</td>\n",
       "      <td>0.225477</td>\n",
       "      <td>0.000000</td>\n",
       "      <td>0.000000</td>\n",
       "    </tr>\n",
       "    <tr>\n",
       "      <th>pohon</th>\n",
       "      <td>0.093581</td>\n",
       "      <td>0.093581</td>\n",
       "      <td>0.121752</td>\n",
       "      <td>0.000000</td>\n",
       "    </tr>\n",
       "    <tr>\n",
       "      <th>cari</th>\n",
       "      <td>0.000000</td>\n",
       "      <td>0.450954</td>\n",
       "      <td>0.000000</td>\n",
       "      <td>0.000000</td>\n",
       "    </tr>\n",
       "    <tr>\n",
       "      <th>telur</th>\n",
       "      <td>0.000000</td>\n",
       "      <td>0.093581</td>\n",
       "      <td>0.093581</td>\n",
       "      <td>0.093581</td>\n",
       "    </tr>\n",
       "    <tr>\n",
       "      <th>mangga</th>\n",
       "      <td>0.000000</td>\n",
       "      <td>0.000000</td>\n",
       "      <td>0.450954</td>\n",
       "      <td>0.000000</td>\n",
       "    </tr>\n",
       "    <tr>\n",
       "      <th>kembang</th>\n",
       "      <td>0.000000</td>\n",
       "      <td>0.000000</td>\n",
       "      <td>0.000000</td>\n",
       "      <td>0.450954</td>\n",
       "    </tr>\n",
       "    <tr>\n",
       "      <th>biak</th>\n",
       "      <td>0.000000</td>\n",
       "      <td>0.000000</td>\n",
       "      <td>0.000000</td>\n",
       "      <td>0.450954</td>\n",
       "    </tr>\n",
       "  </tbody>\n",
       "</table>\n",
       "</div>"
      ],
      "text/plain": [
       "               doc0      doc1      doc2      doc3\n",
       "kupu-kupu  0.093581  0.000000  0.093581  0.093581\n",
       "terbang    0.225477  0.225477  0.000000  0.000000\n",
       "pohon      0.093581  0.093581  0.121752  0.000000\n",
       "cari       0.000000  0.450954  0.000000  0.000000\n",
       "telur      0.000000  0.093581  0.093581  0.093581\n",
       "mangga     0.000000  0.000000  0.450954  0.000000\n",
       "kembang    0.000000  0.000000  0.000000  0.450954\n",
       "biak       0.000000  0.000000  0.000000  0.450954"
      ]
     },
     "execution_count": 45,
     "metadata": {},
     "output_type": "execute_result"
    }
   ],
   "source": [
    "frequency = []\n",
    "for i in bobot.index:\n",
    "    frequency.append((bobot.loc[i] > 0).values.sum())\n",
    "frequency = pd.DataFrame(frequency)\n",
    "    \n",
    "np.seterr(divide = 'ignore')\n",
    "\n",
    "tf = pd.DataFrame(np.where(bobot > 0, np.log10(bobot) + 1,0))\n",
    "idf = pd.DataFrame(np.log10(len(bobot.columns)/frequency))\n",
    "wtd = tf.values*idf.values\n",
    "\n",
    "jumlah = np.sqrt(np.sum(np.square(wtd)))\n",
    "normalization = pd.DataFrame(wtd/jumlah, index=bobot.index, columns=bobot.columns, dtype='float32')\n",
    "normalization"
   ]
  }
 ],
 "metadata": {
  "kernelspec": {
   "display_name": "Python 3",
   "language": "python",
   "name": "python3"
  },
  "language_info": {
   "codemirror_mode": {
    "name": "ipython",
    "version": 3
   },
   "file_extension": ".py",
   "mimetype": "text/x-python",
   "name": "python",
   "nbconvert_exporter": "python",
   "pygments_lexer": "ipython3",
   "version": "3.7.3"
  }
 },
 "nbformat": 4,
 "nbformat_minor": 2
}
