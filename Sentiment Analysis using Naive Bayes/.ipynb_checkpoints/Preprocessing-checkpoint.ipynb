{
 "cells": [
  {
   "cell_type": "code",
   "execution_count": 1,
   "metadata": {},
   "outputs": [],
   "source": [
    "from Sastrawi.Stemmer.StemmerFactory import StemmerFactory\n",
    "factory = StemmerFactory()\n",
    "stemmer = factory.create_stemmer()"
   ]
  },
  {
   "cell_type": "markdown",
   "metadata": {},
   "source": [
    "# Read Data"
   ]
  },
  {
   "cell_type": "code",
   "execution_count": 2,
   "metadata": {},
   "outputs": [
    {
     "data": {
      "text/plain": [
       "['Kupu-kupu terbang di atas pohon',\n",
       " 'Dia terbang sambil mencari pohon untuk bertelur',\n",
       " 'Pohon tempat kupu-kupu bertelur adalah pohon mangga',\n",
       " 'Kupu-kupu bertelur untuk berkembang biak']"
      ]
     },
     "execution_count": 2,
     "metadata": {},
     "output_type": "execute_result"
    }
   ],
   "source": [
    "text = \"\"\"Kupu-kupu terbang di atas pohon\n",
    "Dia terbang sambil mencari pohon untuk bertelur\n",
    "Pohon tempat kupu-kupu bertelur adalah pohon mangga\n",
    "Kupu-kupu bertelur untuk berkembang biak\"\"\"\n",
    "text = text.split('\\n')\n",
    "text"
   ]
  },
  {
   "cell_type": "markdown",
   "metadata": {},
   "source": [
    "# Tokenizing"
   ]
  },
  {
   "cell_type": "code",
   "execution_count": 3,
   "metadata": {},
   "outputs": [
    {
     "data": {
      "text/plain": [
       "['Kupu-kupu',\n",
       " 'terbang',\n",
       " 'di',\n",
       " 'atas',\n",
       " 'pohon',\n",
       " 'Dia',\n",
       " 'terbang',\n",
       " 'sambil',\n",
       " 'mencari',\n",
       " 'pohon',\n",
       " 'untuk',\n",
       " 'bertelur',\n",
       " 'Pohon',\n",
       " 'tempat',\n",
       " 'kupu-kupu',\n",
       " 'bertelur',\n",
       " 'adalah',\n",
       " 'pohon',\n",
       " 'mangga',\n",
       " 'Kupu-kupu',\n",
       " 'bertelur',\n",
       " 'untuk',\n",
       " 'berkembang',\n",
       " 'biak']"
      ]
     },
     "execution_count": 3,
     "metadata": {},
     "output_type": "execute_result"
    }
   ],
   "source": [
    "token = []\n",
    "for kalimat in text:\n",
    "    token += kalimat.split(' ')\n",
    "\n",
    "token"
   ]
  },
  {
   "cell_type": "markdown",
   "metadata": {},
   "source": [
    "# Filtering"
   ]
  },
  {
   "cell_type": "code",
   "execution_count": 4,
   "metadata": {},
   "outputs": [
    {
     "data": {
      "text/plain": [
       "['Kupu-kupu',\n",
       " 'terbang',\n",
       " 'pohon',\n",
       " 'Dia',\n",
       " 'terbang',\n",
       " 'mencari',\n",
       " 'pohon',\n",
       " 'bertelur',\n",
       " 'Pohon',\n",
       " 'kupu-kupu',\n",
       " 'bertelur',\n",
       " 'pohon',\n",
       " 'mangga',\n",
       " 'Kupu-kupu',\n",
       " 'bertelur',\n",
       " 'berkembang',\n",
       " 'biak']"
      ]
     },
     "execution_count": 4,
     "metadata": {},
     "output_type": "execute_result"
    }
   ],
   "source": [
    "stop = open('stopword tala.txt','r')\n",
    "stoplist = stop.read().split('\\n')\n",
    "stop.close()\n",
    "\n",
    "wordlist = []\n",
    "for kata in token:\n",
    "    if kata not in stoplist:\n",
    "        wordlist.append(kata)\n",
    "wordlist"
   ]
  },
  {
   "cell_type": "markdown",
   "metadata": {},
   "source": [
    "# Stemming"
   ]
  },
  {
   "cell_type": "code",
   "execution_count": 5,
   "metadata": {},
   "outputs": [
    {
     "data": {
      "text/plain": [
       "['kupu-kupu',\n",
       " 'terbang',\n",
       " 'pohon',\n",
       " 'dia',\n",
       " 'terbang',\n",
       " 'cari',\n",
       " 'pohon',\n",
       " 'telur',\n",
       " 'pohon',\n",
       " 'kupu-kupu',\n",
       " 'telur',\n",
       " 'pohon',\n",
       " 'mangga',\n",
       " 'kupu-kupu',\n",
       " 'telur',\n",
       " 'kembang',\n",
       " 'biak']"
      ]
     },
     "execution_count": 5,
     "metadata": {},
     "output_type": "execute_result"
    }
   ],
   "source": [
    "stem = []\n",
    "for i in wordlist:\n",
    "    stem.append(stemmer.stem(i))\n",
    "stem"
   ]
  },
  {
   "cell_type": "markdown",
   "metadata": {},
   "source": [
    "# Hasil Akhir"
   ]
  },
  {
   "cell_type": "code",
   "execution_count": 6,
   "metadata": {},
   "outputs": [
    {
     "data": {
      "text/plain": [
       "['kupu-kupu',\n",
       " 'terbang',\n",
       " 'pohon',\n",
       " 'dia',\n",
       " 'cari',\n",
       " 'telur',\n",
       " 'mangga',\n",
       " 'kembang',\n",
       " 'biak']"
      ]
     },
     "execution_count": 6,
     "metadata": {},
     "output_type": "execute_result"
    }
   ],
   "source": [
    "term = []\n",
    "for i in stem:\n",
    "    if i not in term:\n",
    "        term.append(i)\n",
    "term"
   ]
  }
 ],
 "metadata": {
  "kernelspec": {
   "display_name": "Python 3",
   "language": "python",
   "name": "python3"
  },
  "language_info": {
   "codemirror_mode": {
    "name": "ipython",
    "version": 3
   },
   "file_extension": ".py",
   "mimetype": "text/x-python",
   "name": "python",
   "nbconvert_exporter": "python",
   "pygments_lexer": "ipython3",
   "version": "3.7.3"
  }
 },
 "nbformat": 4,
 "nbformat_minor": 2
}
