{
 "cells": [
  {
   "cell_type": "code",
   "execution_count": 1,
   "metadata": {},
   "outputs": [],
   "source": [
    "import pandas as pd\n",
    "import numpy as np\n",
    "\n",
    "class Parsing(object):\n",
    "    \n",
    "    def __init__(self,types,chunksize=5000000):\n",
    "        self.chunksize = chunksize\n",
    "        self.types = types\n",
    "    \n",
    "    def text_to_feather(self,path_in=[],path_out=[],sep='\\t',skiprows=4):\n",
    "        k = 0\n",
    "        for in_,out_ in zip(path_in,path_out):\n",
    "            df = []\n",
    "            print('Load data {}...'.format(k+1))\n",
    "            for i in pd.read_csv(in_, sep=sep, dtype=self.types, skiprows=skiprows, chunksize=self.chunksize):\n",
    "                df.append(i)\n",
    "                \n",
    "            train_df = pd.concat(df)\n",
    "            del df\n",
    "            train_df=train_df.drop(train_df.tail(1).index)\n",
    "            print(train_df.info())\n",
    "            train_df.to_feather(out_)\n",
    "            print('Finish parsing data {}...'.format(k+1))\n",
    "            k += 1"
   ]
  },
  {
   "cell_type": "raw",
   "metadata": {},
   "source": [
    "# Variables\n",
    "\n",
    "# self.chunksize               : menentukan berapa banyak chunk yang akan digunakan\n",
    "# self.types                   : menentukan tipe dari kolom yang ada\n",
    "# path_in                      : menentukan file path yang akan digunakan (.txt)\n",
    "# path_out                     : menentukan file path yang akan disimpan (.feather)\n",
    "# sep                          : pemisah pada data yang akan diparsing\n",
    "# skiprows                     : melewat berapa baris pada data yang akan diparsing\n",
    "# k                            : menentukan jumlah looping yang sudah dijalankan\n",
    "# df                           : memasukan data sebanyak self.chunksize\n",
    "# train_df                     : membuat dataframe dengan menggabungkan df\n",
    "\n",
    "# Methods\n",
    "\n",
    "# __init__                     : menetapkan data yang merupakan global variable\n",
    "# text_to_feather              : melakukan parsing dari file .txt menjadi .feather"
   ]
  }
 ],
 "metadata": {
  "kernelspec": {
   "display_name": "Python 3",
   "language": "python",
   "name": "python3"
  },
  "language_info": {
   "codemirror_mode": {
    "name": "ipython",
    "version": 3
   },
   "file_extension": ".py",
   "mimetype": "text/x-python",
   "name": "python",
   "nbconvert_exporter": "python",
   "pygments_lexer": "ipython3",
   "version": "3.7.3"
  }
 },
 "nbformat": 4,
 "nbformat_minor": 2
}
