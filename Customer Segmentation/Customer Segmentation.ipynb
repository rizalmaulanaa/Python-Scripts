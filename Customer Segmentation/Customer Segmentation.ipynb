{
 "cells": [
  {
   "cell_type": "code",
   "execution_count": 1,
   "metadata": {},
   "outputs": [],
   "source": [
    "import pandas as pd\n",
    "import numpy as np\n",
    "import os\n",
    "import parsing as pars\n",
    "import preprocessing_segmentation as pg\n",
    "import matplotlib.pyplot as plt\n",
    "import seaborn as sns\n",
    "\n",
    "from sklearn.cluster import KMeans\n",
    "from sklearn.metrics import silhouette_score\n",
    "%matplotlib inline\n",
    "\n",
    "mentari_path = '/Users/ASUS/Documents/Python Scripts/'\n",
    "rizal_path = '/Users/Rizal Maulana/Downloads/semester 7/PKL/datas/'\n",
    "fauzan_path = '/Users/fauzanrahman/Downloads/Coding/pkl/'"
   ]
  },
  {
   "cell_type": "markdown",
   "metadata": {},
   "source": [
    "# Parsing .txt into .feather"
   ]
  },
  {
   "cell_type": "code",
   "execution_count": 2,
   "metadata": {},
   "outputs": [],
   "source": [
    "# traintypes = {'indi_apps_201904.user_id': 'object',\n",
    "#               'indi_apps_201904.category_name': 'object', \n",
    "#               'indi_apps_201904.application_name': 'object',\n",
    "#               'indi_apps_201904.activity_sec': 'float64',\n",
    "#               'indi_apps_201904.volume_in': 'float64',\n",
    "#               'indi_apps_201904.volume_out': 'float64',\n",
    "#               'indi_apps_201904.ds': 'object'}\n",
    "\n",
    "# path_in = [rizal_path+i for i in os.listdir(rizal_path) if i.endswith('.txt')]\n",
    "# path_out = [i.split('.')[0]+'.feather' for i in path_in]"
   ]
  },
  {
   "cell_type": "code",
   "execution_count": 3,
   "metadata": {},
   "outputs": [],
   "source": [
    "# pr = pars.Parsing(traintypes,chunksize=5000000)\n",
    "# pr.text_to_feather(path_in=path_in,path_out=path_out,sep=';')"
   ]
  },
  {
   "cell_type": "markdown",
   "metadata": {},
   "source": [
    "# Read data"
   ]
  },
  {
   "cell_type": "code",
   "execution_count": 4,
   "metadata": {},
   "outputs": [
    {
     "data": {
      "text/plain": [
       "['/Users/Rizal Maulana/Downloads/semester 7/PKL/datas/data_indihome_app_20190401.feather',\n",
       " '/Users/Rizal Maulana/Downloads/semester 7/PKL/datas/data_indihome_app_20190402.feather',\n",
       " '/Users/Rizal Maulana/Downloads/semester 7/PKL/datas/data_indihome_app_20190403.feather',\n",
       " '/Users/Rizal Maulana/Downloads/semester 7/PKL/datas/data_indihome_app_20190404.feather']"
      ]
     },
     "execution_count": 4,
     "metadata": {},
     "output_type": "execute_result"
    }
   ],
   "source": [
    "list_file = [rizal_path+i for i in os.listdir(rizal_path) if i.endswith('.feather')]\n",
    "list_file"
   ]
  },
  {
   "cell_type": "markdown",
   "metadata": {},
   "source": [
    "# Analysis data"
   ]
  },
  {
   "cell_type": "code",
   "execution_count": 5,
   "metadata": {},
   "outputs": [],
   "source": [
    "segment = pg.Segmentation(limit=500000)\n",
    "df = pd.read_feather(list_file[0])"
   ]
  },
  {
   "cell_type": "code",
   "execution_count": 6,
   "metadata": {},
   "outputs": [
    {
     "name": "stdout",
     "output_type": "stream",
     "text": [
      "Users : 74,452\n",
      "Length of unique columns application name : 8,355\n",
      "Length of unique columns category name : 64\n"
     ]
    }
   ],
   "source": [
    "print('Users : {:,}'.format(len(np.unique(df['indi_apps_201904.user_id']))))\n",
    "print('Length of unique columns application name : {:,}'.format(len(np.unique(df['indi_apps_201904.application_name']))))\n",
    "print('Length of unique columns category name : {:,}'.format(len(np.unique(df['indi_apps_201904.category_name']))))"
   ]
  },
  {
   "cell_type": "code",
   "execution_count": 7,
   "metadata": {},
   "outputs": [
    {
     "name": "stdout",
     "output_type": "stream",
     "text": [
      "Top value by application name :\n"
     ]
    },
    {
     "data": {
      "text/plain": [
       "Index(['GoogleServices', 'GooglePortalDetection', 'Facebook', 'WhatsApp',\n",
       "       'AdvertisingSites', 'YouTube', 'GooglePush', 'GooglePlayServices',\n",
       "       'DoubleClick', 'TelcoSites', 'TrackerSites', 'synonly', 'Instagram',\n",
       "       'DeviceServicesSites', 'Oppo', 'MIUIServices', 'SoftwareDownloadsSites',\n",
       "       'ProxySites', 'TouchPal', 'HostingSites', 'MiTalk', 'UZone',\n",
       "       'Crashlytics', 'HTTP', 'AppsFlyer', 'GoogleSafeBrowsing', 'SSL',\n",
       "       'TechnologySites', 'GoogleMaps', 'ProxyAvoidanceSites', 'Avast',\n",
       "       'XiaomiMarket', 'unclassified', 'LINE', 'TelkomMercusuar', 'Akamai',\n",
       "       'MessagingSites', 'InMobi', 'QQ', 'Vivo', 'CleanMaster',\n",
       "       'GoogleTagManager', 'ByteDance', 'Gmail', 'GoogleInbox',\n",
       "       'CheetahMobile', 'non-established', 'Shopee', 'WebApplicationSites',\n",
       "       'Baidu', 'MoPub', 'SocialNewsSites', 'Adjust', 'SecuritySites', 'UCWeb',\n",
       "       'WeChat', 'SamsungApps', 'CorporateSites', 'DNS', 'TikTok',\n",
       "       'AccuWeather', 'GoogleContacts', 'Twitter', 'MiCloud', 'ColorOS',\n",
       "       'AmazonCloudfront', 'GooglePlayStore', 'TencentServices',\n",
       "       'TalentGameBox', 'comScore', 'L3-ICMP', 'empty', 'GamesSites',\n",
       "       'Pushnotifs', 'NTP', 'XMPP', 'ApplePush', 'GoogleQuickSearch', 'Umeng',\n",
       "       'AlibabaGroup', 'AmazonAWS', 'DuAppsStudio', 'AMPProject', 'Bugly',\n",
       "       'SearchEngineSites', 'EntertainmentSites', 'AppNexus', 'Garena', 'Tanx',\n",
       "       'MSWindowsUpdate', 'WordPress', 'StreamingVideoSites', 'OCSP',\n",
       "       'Unity3D', 'Fastly', 'GenieEsspv', 'Bing', 'VigoVideo',\n",
       "       'MobileSystemService', 'YahooServices'],\n",
       "      dtype='object')"
      ]
     },
     "execution_count": 7,
     "metadata": {},
     "output_type": "execute_result"
    }
   ],
   "source": [
    "print('Top value by application name :')\n",
    "segment.load_top(df,name='app',top_number=100)"
   ]
  },
  {
   "cell_type": "code",
   "execution_count": 8,
   "metadata": {},
   "outputs": [
    {
     "name": "stdout",
     "output_type": "stream",
     "text": [
      "Top value by category name :\n"
     ]
    },
    {
     "data": {
      "text/plain": [
       "Index(['Ads', 'DeviceServices', 'Communications', 'SocialNet', 'CDN', 'Video',\n",
       "       'Games', 'GoogleServices', 'Technology', 'Web', 'Tracker', 'Net',\n",
       "       'Security', 'Proxy', 'Productivity', 'ApplicationStore', 'Lifestyle',\n",
       "       'Telco', 'unclassified', 'eCommerce', 'LocationServices', 'News',\n",
       "       'Mail', 'SearchEngine', 'Enterprise', 'AppleServices', 'Attack',\n",
       "       'WebApps', 'Media', 'CloudStorage', 'Update', 'CloudServices', 'Images',\n",
       "       'Weather', 'Music', 'Finance', 'non-established', 'Backup',\n",
       "       'Transportation', 'Education', 'YahooServices', 'VPN', 'FileSharing',\n",
       "       'Content', 'RPC', 'Travel', 'P2P', 'File', 'Sports', 'Gov', 'Banking',\n",
       "       'IPCamera', 'Religion', 'DlMgr', 'Remote', 'Automotive', 'FoodDrinks',\n",
       "       'JobSearch', 'RealEstate', 'HomeDecoration', 'MDM', 'Sync', 'Misc',\n",
       "       'Browser'],\n",
       "      dtype='object')"
      ]
     },
     "execution_count": 8,
     "metadata": {},
     "output_type": "execute_result"
    }
   ],
   "source": [
    "print('Top value by category name :')\n",
    "segment.load_top(df,name='cat')"
   ]
  },
  {
   "cell_type": "markdown",
   "metadata": {},
   "source": [
    "# Filtering"
   ]
  },
  {
   "cell_type": "code",
   "execution_count": 9,
   "metadata": {},
   "outputs": [],
   "source": [
    "list_del_cat = ['Ads','Attack','CloudStorage','Content','MDM','Misc','Proxy','Remote','Sync',\n",
    "                'Tracker','Update','Weather','non-established','unclassified','Browser','DeviceServices',\n",
    "                'File','FileSharing','GoogleServices','Media','RPC','Security','VPN']\n",
    "list_del_app = ['GooglePortalDetection','TouchPal','CleanMaster','BBM-UCI', 'AdultSites','SinaCN']"
   ]
  },
  {
   "cell_type": "markdown",
   "metadata": {},
   "source": [
    "# Preprocessing"
   ]
  },
  {
   "cell_type": "code",
   "execution_count": 10,
   "metadata": {
    "scrolled": false
   },
   "outputs": [
    {
     "name": "stdout",
     "output_type": "stream",
     "text": [
      "Total datas : 4\n",
      "\n",
      "Load data 1....\n",
      "Finish load data 1\n",
      "Finish filtering data 1\n",
      "Finish normalization data 1\n",
      "Percentage of variance : 0.9252991803591116\n",
      "Finish PCA data 1\n",
      "Finish preprocessing data 1\n",
      "Load data 2....\n",
      "Finish load data 2\n",
      "Finish filtering data 2\n",
      "Finish normalization data 2\n",
      "Percentage of variance : 0.9270872596272146\n",
      "Finish PCA data 2\n",
      "Finish preprocessing data 2\n",
      "Load data 3....\n",
      "Finish load data 3\n",
      "Finish filtering data 3\n",
      "Finish normalization data 3\n",
      "Percentage of variance : 0.9256450228191488\n",
      "Finish PCA data 3\n",
      "Finish preprocessing data 3\n",
      "Load data 4....\n",
      "Finish load data 4\n",
      "Finish filtering data 4\n",
      "Finish normalization data 4\n",
      "Percentage of variance : 0.9246049278925635\n",
      "Finish PCA data 4\n",
      "Finish preprocessing data 4\n"
     ]
    }
   ],
   "source": [
    "print('Total datas : {}\\n'.format(len(list_file)))\n",
    "timeseries = segment.preprocessing(list_file,top_number=100,limit_pca=60,\n",
    "                                   filter_cat=list_del_cat,filter_app=list_del_app)\n",
    "df_ = segment.df_preprocess"
   ]
  },
  {
   "cell_type": "markdown",
   "metadata": {},
   "source": [
    "# Optimal K-means"
   ]
  },
  {
   "cell_type": "code",
   "execution_count": 11,
   "metadata": {},
   "outputs": [],
   "source": [
    "def optimal(df,awal,akhir,sample):\n",
    "    eval_,cluster = [],[]\n",
    "    for i in range(awal,akhir):\n",
    "        labels = KMeans(n_clusters=i).fit_predict(df)\n",
    "        sil = round(silhouette_score(df, labels, sample_size=sample), 3)\n",
    "        eval_.append(sil)\n",
    "        cluster.append(i)\n",
    "        print('{} Cluster, Silhouette Score {}'.format(i,sil))\n",
    "        \n",
    "    return eval_,cluster\n",
    "\n",
    "tm = pd.concat(timeseries)\n",
    "tm.index = range(len(tm))"
   ]
  },
  {
   "cell_type": "markdown",
   "metadata": {},
   "source": [
    "# Evaluation"
   ]
  },
  {
   "cell_type": "markdown",
   "metadata": {},
   "source": [
    "## Silhouette Score"
   ]
  },
  {
   "cell_type": "code",
   "execution_count": 37,
   "metadata": {
    "scrolled": false
   },
   "outputs": [
    {
     "name": "stdout",
     "output_type": "stream",
     "text": [
      "2 Cluster, Silhouette Score 0.137\n",
      "3 Cluster, Silhouette Score 0.205\n",
      "4 Cluster, Silhouette Score 0.246\n",
      "5 Cluster, Silhouette Score 0.277\n",
      "6 Cluster, Silhouette Score 0.269\n",
      "7 Cluster, Silhouette Score 0.304\n",
      "8 Cluster, Silhouette Score 0.327\n",
      "9 Cluster, Silhouette Score 0.341\n"
     ]
    },
    {
     "data": {
      "image/png": "[encoded data removed]",
      "text/plain": [
       "<Figure size 1152x504 with 1 Axes>"
      ]
     },
     "metadata": {
      "needs_background": "light"
     },
     "output_type": "display_data"
    }
   ],
   "source": [
    "sample = 10000\n",
    "ss,cluster = optimal(tm,2,10,sample)\n",
    "plt.figure(figsize=(16,7))\n",
    "sns.pointplot(x=cluster, y=ss)\n",
    "plt.title('Silhouette Score with {:,} sample'.format(sample))\n",
    "plt.tight_layout()\n",
    "plt.xlabel('Cluster')\n",
    "plt.ylabel('Silhouette Score')\n",
    "plt.show()"
   ]
  },
  {
   "cell_type": "markdown",
   "metadata": {},
   "source": [
    "# KMeans"
   ]
  },
  {
   "cell_type": "code",
   "execution_count": 13,
   "metadata": {
    "scrolled": true
   },
   "outputs": [
    {
     "ename": "KeyboardInterrupt",
     "evalue": "",
     "output_type": "error",
     "traceback": [
      "\u001b[1;31m---------------------------------------------------------------------------\u001b[0m",
      "\u001b[1;31mKeyboardInterrupt\u001b[0m                         Traceback (most recent call last)",
      "\u001b[1;32m<ipython-input-13-af3496efec13>\u001b[0m in \u001b[0;36m<module>\u001b[1;34m\u001b[0m\n\u001b[0;32m      1\u001b[0m \u001b[0mdf_tm\u001b[0m \u001b[1;33m=\u001b[0m \u001b[0mpd\u001b[0m\u001b[1;33m.\u001b[0m\u001b[0mconcat\u001b[0m\u001b[1;33m(\u001b[0m\u001b[0mdf_\u001b[0m\u001b[1;33m)\u001b[0m\u001b[1;33m\u001b[0m\u001b[1;33m\u001b[0m\u001b[0m\n\u001b[1;32m----> 2\u001b[1;33m \u001b[0mlabels\u001b[0m \u001b[1;33m=\u001b[0m \u001b[0mKMeans\u001b[0m\u001b[1;33m(\u001b[0m\u001b[0mn_clusters\u001b[0m\u001b[1;33m=\u001b[0m\u001b[1;36m7\u001b[0m\u001b[1;33m)\u001b[0m\u001b[1;33m.\u001b[0m\u001b[0mfit_predict\u001b[0m\u001b[1;33m(\u001b[0m\u001b[0mtm\u001b[0m\u001b[1;33m)\u001b[0m\u001b[1;33m\u001b[0m\u001b[1;33m\u001b[0m\u001b[0m\n\u001b[0m\u001b[0;32m      3\u001b[0m \u001b[0mdf_tm\u001b[0m\u001b[1;33m[\u001b[0m\u001b[1;34m'Cluster'\u001b[0m\u001b[1;33m]\u001b[0m \u001b[1;33m=\u001b[0m \u001b[0mlabels\u001b[0m\u001b[1;33m\u001b[0m\u001b[1;33m\u001b[0m\u001b[0m\n\u001b[0;32m      4\u001b[0m \u001b[0mdf_tm\u001b[0m\u001b[1;33m\u001b[0m\u001b[1;33m\u001b[0m\u001b[0m\n",
      "\u001b[1;32m~\\Anaconda3\\lib\\site-packages\\sklearn\\cluster\\k_means_.py\u001b[0m in \u001b[0;36mfit_predict\u001b[1;34m(self, X, y, sample_weight)\u001b[0m\n\u001b[0;32m    996\u001b[0m             \u001b[0mIndex\u001b[0m \u001b[0mof\u001b[0m \u001b[0mthe\u001b[0m \u001b[0mcluster\u001b[0m \u001b[0meach\u001b[0m \u001b[0msample\u001b[0m \u001b[0mbelongs\u001b[0m \u001b[0mto\u001b[0m\u001b[1;33m.\u001b[0m\u001b[1;33m\u001b[0m\u001b[1;33m\u001b[0m\u001b[0m\n\u001b[0;32m    997\u001b[0m         \"\"\"\n\u001b[1;32m--> 998\u001b[1;33m         \u001b[1;32mreturn\u001b[0m \u001b[0mself\u001b[0m\u001b[1;33m.\u001b[0m\u001b[0mfit\u001b[0m\u001b[1;33m(\u001b[0m\u001b[0mX\u001b[0m\u001b[1;33m,\u001b[0m \u001b[0msample_weight\u001b[0m\u001b[1;33m=\u001b[0m\u001b[0msample_weight\u001b[0m\u001b[1;33m)\u001b[0m\u001b[1;33m.\u001b[0m\u001b[0mlabels_\u001b[0m\u001b[1;33m\u001b[0m\u001b[1;33m\u001b[0m\u001b[0m\n\u001b[0m\u001b[0;32m    999\u001b[0m \u001b[1;33m\u001b[0m\u001b[0m\n\u001b[0;32m   1000\u001b[0m     \u001b[1;32mdef\u001b[0m \u001b[0mfit_transform\u001b[0m\u001b[1;33m(\u001b[0m\u001b[0mself\u001b[0m\u001b[1;33m,\u001b[0m \u001b[0mX\u001b[0m\u001b[1;33m,\u001b[0m \u001b[0my\u001b[0m\u001b[1;33m=\u001b[0m\u001b[1;32mNone\u001b[0m\u001b[1;33m,\u001b[0m \u001b[0msample_weight\u001b[0m\u001b[1;33m=\u001b[0m\u001b[1;32mNone\u001b[0m\u001b[1;33m)\u001b[0m\u001b[1;33m:\u001b[0m\u001b[1;33m\u001b[0m\u001b[1;33m\u001b[0m\u001b[0m\n",
      "\u001b[1;32m~\\Anaconda3\\lib\\site-packages\\sklearn\\cluster\\k_means_.py\u001b[0m in \u001b[0;36mfit\u001b[1;34m(self, X, y, sample_weight)\u001b[0m\n\u001b[0;32m    970\u001b[0m                 \u001b[0mtol\u001b[0m\u001b[1;33m=\u001b[0m\u001b[0mself\u001b[0m\u001b[1;33m.\u001b[0m\u001b[0mtol\u001b[0m\u001b[1;33m,\u001b[0m \u001b[0mrandom_state\u001b[0m\u001b[1;33m=\u001b[0m\u001b[0mrandom_state\u001b[0m\u001b[1;33m,\u001b[0m \u001b[0mcopy_x\u001b[0m\u001b[1;33m=\u001b[0m\u001b[0mself\u001b[0m\u001b[1;33m.\u001b[0m\u001b[0mcopy_x\u001b[0m\u001b[1;33m,\u001b[0m\u001b[1;33m\u001b[0m\u001b[1;33m\u001b[0m\u001b[0m\n\u001b[0;32m    971\u001b[0m                 \u001b[0mn_jobs\u001b[0m\u001b[1;33m=\u001b[0m\u001b[0mself\u001b[0m\u001b[1;33m.\u001b[0m\u001b[0mn_jobs\u001b[0m\u001b[1;33m,\u001b[0m \u001b[0malgorithm\u001b[0m\u001b[1;33m=\u001b[0m\u001b[0mself\u001b[0m\u001b[1;33m.\u001b[0m\u001b[0malgorithm\u001b[0m\u001b[1;33m,\u001b[0m\u001b[1;33m\u001b[0m\u001b[1;33m\u001b[0m\u001b[0m\n\u001b[1;32m--> 972\u001b[1;33m                 return_n_iter=True)\n\u001b[0m\u001b[0;32m    973\u001b[0m         \u001b[1;32mreturn\u001b[0m \u001b[0mself\u001b[0m\u001b[1;33m\u001b[0m\u001b[1;33m\u001b[0m\u001b[0m\n\u001b[0;32m    974\u001b[0m \u001b[1;33m\u001b[0m\u001b[0m\n",
      "\u001b[1;32m~\\Anaconda3\\lib\\site-packages\\sklearn\\cluster\\k_means_.py\u001b[0m in \u001b[0;36mk_means\u001b[1;34m(X, n_clusters, sample_weight, init, precompute_distances, n_init, max_iter, verbose, tol, random_state, copy_x, n_jobs, algorithm, return_n_iter)\u001b[0m\n\u001b[0;32m    379\u001b[0m                 \u001b[0mverbose\u001b[0m\u001b[1;33m=\u001b[0m\u001b[0mverbose\u001b[0m\u001b[1;33m,\u001b[0m \u001b[0mprecompute_distances\u001b[0m\u001b[1;33m=\u001b[0m\u001b[0mprecompute_distances\u001b[0m\u001b[1;33m,\u001b[0m\u001b[1;33m\u001b[0m\u001b[1;33m\u001b[0m\u001b[0m\n\u001b[0;32m    380\u001b[0m                 \u001b[0mtol\u001b[0m\u001b[1;33m=\u001b[0m\u001b[0mtol\u001b[0m\u001b[1;33m,\u001b[0m \u001b[0mx_squared_norms\u001b[0m\u001b[1;33m=\u001b[0m\u001b[0mx_squared_norms\u001b[0m\u001b[1;33m,\u001b[0m\u001b[1;33m\u001b[0m\u001b[1;33m\u001b[0m\u001b[0m\n\u001b[1;32m--> 381\u001b[1;33m                 random_state=random_state)\n\u001b[0m\u001b[0;32m    382\u001b[0m             \u001b[1;31m# determine if these results are the best so far\u001b[0m\u001b[1;33m\u001b[0m\u001b[1;33m\u001b[0m\u001b[1;33m\u001b[0m\u001b[0m\n\u001b[0;32m    383\u001b[0m             \u001b[1;32mif\u001b[0m \u001b[0mbest_inertia\u001b[0m \u001b[1;32mis\u001b[0m \u001b[1;32mNone\u001b[0m \u001b[1;32mor\u001b[0m \u001b[0minertia\u001b[0m \u001b[1;33m<\u001b[0m \u001b[0mbest_inertia\u001b[0m\u001b[1;33m:\u001b[0m\u001b[1;33m\u001b[0m\u001b[1;33m\u001b[0m\u001b[0m\n",
      "\u001b[1;32m~\\Anaconda3\\lib\\site-packages\\sklearn\\cluster\\k_means_.py\u001b[0m in \u001b[0;36m_kmeans_single_elkan\u001b[1;34m(X, sample_weight, n_clusters, max_iter, init, verbose, x_squared_norms, random_state, tol, precompute_distances)\u001b[0m\n\u001b[0;32m    443\u001b[0m     centers, labels, n_iter = k_means_elkan(X, checked_sample_weight,\n\u001b[0;32m    444\u001b[0m                                             \u001b[0mn_clusters\u001b[0m\u001b[1;33m,\u001b[0m \u001b[0mcenters\u001b[0m\u001b[1;33m,\u001b[0m \u001b[0mtol\u001b[0m\u001b[1;33m=\u001b[0m\u001b[0mtol\u001b[0m\u001b[1;33m,\u001b[0m\u001b[1;33m\u001b[0m\u001b[1;33m\u001b[0m\u001b[0m\n\u001b[1;32m--> 445\u001b[1;33m                                             max_iter=max_iter, verbose=verbose)\n\u001b[0m\u001b[0;32m    446\u001b[0m     \u001b[1;32mif\u001b[0m \u001b[0msample_weight\u001b[0m \u001b[1;32mis\u001b[0m \u001b[1;32mNone\u001b[0m\u001b[1;33m:\u001b[0m\u001b[1;33m\u001b[0m\u001b[1;33m\u001b[0m\u001b[0m\n\u001b[0;32m    447\u001b[0m         \u001b[0minertia\u001b[0m \u001b[1;33m=\u001b[0m \u001b[0mnp\u001b[0m\u001b[1;33m.\u001b[0m\u001b[0msum\u001b[0m\u001b[1;33m(\u001b[0m\u001b[1;33m(\u001b[0m\u001b[0mX\u001b[0m \u001b[1;33m-\u001b[0m \u001b[0mcenters\u001b[0m\u001b[1;33m[\u001b[0m\u001b[0mlabels\u001b[0m\u001b[1;33m]\u001b[0m\u001b[1;33m)\u001b[0m \u001b[1;33m**\u001b[0m \u001b[1;36m2\u001b[0m\u001b[1;33m,\u001b[0m \u001b[0mdtype\u001b[0m\u001b[1;33m=\u001b[0m\u001b[0mnp\u001b[0m\u001b[1;33m.\u001b[0m\u001b[0mfloat64\u001b[0m\u001b[1;33m)\u001b[0m\u001b[1;33m\u001b[0m\u001b[1;33m\u001b[0m\u001b[0m\n",
      "\u001b[1;32msklearn\\cluster\\_k_means_elkan.pyx\u001b[0m in \u001b[0;36msklearn.cluster._k_means_elkan.k_means_elkan\u001b[1;34m()\u001b[0m\n",
      "\u001b[1;32m~\\Anaconda3\\lib\\site-packages\\sklearn\\metrics\\pairwise.py\u001b[0m in \u001b[0;36meuclidean_distances\u001b[1;34m(X, Y, Y_norm_squared, squared, X_norm_squared)\u001b[0m\n\u001b[0;32m    163\u001b[0m \u001b[1;33m\u001b[0m\u001b[0m\n\u001b[0;32m    164\u001b[0m \u001b[1;31m# Pairwise distances\u001b[0m\u001b[1;33m\u001b[0m\u001b[1;33m\u001b[0m\u001b[1;33m\u001b[0m\u001b[0m\n\u001b[1;32m--> 165\u001b[1;33m def euclidean_distances(X, Y=None, Y_norm_squared=None, squared=False,\n\u001b[0m\u001b[0;32m    166\u001b[0m                         X_norm_squared=None):\n\u001b[0;32m    167\u001b[0m     \"\"\"\n",
      "\u001b[1;31mKeyboardInterrupt\u001b[0m: "
     ]
    }
   ],
   "source": [
    "df_tm = pd.concat(df_)\n",
    "labels = KMeans(n_clusters=7).fit_predict(tm)\n",
    "df_tm['Cluster'] = labels\n",
    "df_tm"
   ]
  },
  {
   "cell_type": "markdown",
   "metadata": {},
   "source": [
    "# Group by Cluster"
   ]
  },
  {
   "cell_type": "code",
   "execution_count": null,
   "metadata": {
    "scrolled": true
   },
   "outputs": [],
   "source": [
    "df_cluster = df_tm.groupby('Cluster')\n",
    "df_cluster.get_group(1)"
   ]
  },
  {
   "cell_type": "markdown",
   "metadata": {},
   "source": [
    "# Summary every Segment"
   ]
  },
  {
   "cell_type": "code",
   "execution_count": 44,
   "metadata": {},
   "outputs": [
    {
     "name": "stdout",
     "output_type": "stream",
     "text": [
      "Cluster 0\n",
      "Unique category name : ['Mail', 'Net', 'Technology']\n",
      "Unique application name : ['AMPProject', 'AlibabaGroup', 'ByteDance', 'DNS', 'Disqus', 'Gmail', 'GoogleInbox', 'L3-ICMP', 'NTP', 'OCSP', 'OperaSoftware', 'QUIC', 'TechnologySites', 'Vivo', 'YahooMail']\n",
      "\n",
      "Cluster 1\n",
      "Unique category name : ['SocialNet']\n",
      "Unique application name : ['Bigo', 'Blogger', 'Facebook', 'Instagram', 'Twitter', 'WordPress', 'YY']\n",
      "\n",
      "Cluster 2\n",
      "Unique category name : ['Communications']\n",
      "Unique application name : ['GoIM', 'GoogleContacts', 'LINE', 'MessagingSites', 'MiTalk', 'QQ', 'STUN', 'Skype', 'Telegram', 'WeChat', 'WhatsApp', 'XMPP']\n",
      "\n",
      "Cluster 3\n",
      "Unique category name : ['Video']\n",
      "Unique application name : ['StreamingVideoSites', 'TikTok', 'VidMate', 'VigoVideo', 'Viu', 'YouTube']\n",
      "\n",
      "Cluster 4\n",
      "Unique category name : ['AppleServices', 'ApplicationStore', 'Backup', 'CDN', 'CloudServices', 'Enterprise', 'Games', 'Images', 'Lifestyle', 'LocationServices', 'Music', 'News', 'Productivity', 'SearchEngine', 'Technology', 'Transportation', 'Web', 'WebApps', 'YahooServices', 'eCommerce']\n",
      "Unique application name : ['4399MobileGames', 'AMPProject', 'Akamai', 'Alibaba', 'AlibabaGroup', 'AmazonAWS', 'AmazonCloudfront', 'AppleAppStore', 'AppleLocationServices', 'ApplePush', 'AppleServices', 'Baidu', 'Bing', 'ByteDance', 'CorporateSites', 'Detik', 'Disqus', 'EntertainmentSites', 'Fastly', 'GamesSites', 'Garena', 'GarenaFreeFire', 'GoogleMaps', 'GooglePhotos', 'GooglePlayStore', 'GoogleQuickSearch', 'Grab', 'HTTP', 'Hago', 'HostingSites', 'Joox', 'LINEWebtoon', 'Lazada', 'LocationServicesSites', 'MSNPortalServices', 'MicrosoftServices', 'Mob.com', 'MobileLegends', 'Mozilla', 'NewsSites', 'Office365', 'OneDrive', 'OperaSoftware', 'OppoSoftwareStore', 'PUBG', 'QQGames', 'ReferenceSites', 'SSL', 'Samsung', 'SamsungApps', 'SearchEngineSites', 'Shopee', 'ShoppingSites', 'SocialNewsSites', 'SoftwareDownloadsSites', 'Spotify', 'Taobao', 'TechnologySites', 'TenorGIFKeyboard', 'Tokopedia', 'UZone', 'Unity3D', 'UseInsider', 'Vivo', 'VivoAppStore', 'WeMOBA', 'WebApplicationSites', 'WindowsCEIP', 'XiaomiMarket', 'YahooServices', 'amap']\n",
      "\n",
      "Cluster 5\n",
      "Unique category name : ['ApplicationStore', 'Games', 'Net', 'Web']\n",
      "Unique application name : ['AppleAppStore', 'DNS', 'GamesSites', 'Garena', 'GarenaFreeFire', 'GooglePlayStore', 'HTTP', 'Hago', 'L3-ICMP', 'MSNPortalServices', 'Mob.com', 'MobileLegends', 'Mozilla', 'NTP', 'OCSP', 'OppoSoftwareStore', 'PUBG', 'QQGames', 'QUIC', 'SSL', 'Samsung', 'SamsungApps', 'SearchEngineSites', 'TalentGameBox', 'Teredo', 'Unity3D', 'VivoAppStore', 'WeMOBA', 'WindowsCEIP', 'XiaomiMarket']\n",
      "\n",
      "Cluster 6\n",
      "Unique category name : ['Telco']\n",
      "Unique application name : ['TelcoSites']\n",
      "\n"
     ]
    }
   ],
   "source": [
    "for i in np.unique(labels):\n",
    "    print('Cluster {}'.format(i))\n",
    "    print('Unique category name : {}'.format(list(np.unique(df_cluster.get_group(i)['indi_apps_201904.category_name']))))\n",
    "    print('Unique application name : {}\\n'.format(\n",
    "        list(np.unique(df_cluster.get_group(i)['indi_apps_201904.application_name']))))"
   ]
  },
  {
   "cell_type": "markdown",
   "metadata": {},
   "source": [
    "# Documentations"
   ]
  },
  {
   "cell_type": "raw",
   "metadata": {},
   "source": [
    "# Variables\n",
    "\n",
    "# mentari_path                 : path file pada laptop mentari\n",
    "# rizal_path                   : path file pada laptop rizal\n",
    "# traintypes                   : tipe kolom pada data .txt\n",
    "# path_in                      : path file yang akan diparsing\n",
    "# path_out                     : path file yang akan disimpan\n",
    "# pr                           : inisialisasi class Parsing\n",
    "# list_file                    : menyimpan path .feather yang akan diproses\n",
    "# segment                      : inisialisasi class preprocessing_segment\n",
    "# df                           : membuka file .feather\n",
    "# segment.load_top             : menampilkan nilai teratas bedasarkan application / category name\n",
    "# list_del_cat                 : menyimpan daftar yang akan dihapus bedasarkan categoty name\n",
    "# list_del_app                 : menyimpan daftar yang akan dihapus bedasarkan application name\n",
    "# timeseries                   : menyimpan semua dataframe yang sudah di preprocessing\n",
    "# df_                          : menyimpan data selain numerik\n",
    "# tm                           : menyimpan data timeseries menjadi 1\n",
    "# sample                       : menentukan berapa banyak sample yang digunakan untuk proses silhouette score\n",
    "# df_tm                        : menyimpan df_ menjadi 1\n",
    "# labels                       : menyimpan hasil clustering\n",
    "# df_cluster                   : melakukan grouping sesuai dengan clustering\n",
    "\n",
    "# Method\n",
    "\n",
    "# optimal                      : menentukan cluster yang optimal"
   ]
  }
 ],
 "metadata": {
  "kernelspec": {
   "display_name": "Python 3",
   "language": "python",
   "name": "python3"
  },
  "language_info": {
   "codemirror_mode": {
    "name": "ipython",
    "version": 3
   },
   "file_extension": ".py",
   "mimetype": "text/x-python",
   "name": "python",
   "nbconvert_exporter": "python",
   "pygments_lexer": "ipython3",
   "version": "3.7.3"
  }
 },
 "nbformat": 4,
 "nbformat_minor": 2
}
